{
 "cells": [
  {
   "cell_type": "code",
   "execution_count": null,
   "metadata": {},
   "outputs": [],
   "source": [
    "import pandas as pd\n",
    "\n",
    "# reading file with pandas\n",
    "df = pd.read_csv(\"Desktop/companies.csv\")\n",
    "df\n",
    "\n",
    "# filtering companies without a domain name\n",
    "df.dropna(subset=['domain'])\n",
    "\n",
    "# writing pandas output in parquet\n",
    "df.to_parquet('df.parquet.gzip' , compression ='gzip')\n",
    "pd.read_parquet('df.parquet.gzip')\n",
    "\n",
    "# writing pandas output in parquet\n",
    "df.to_json(orient='records' , compression=\"gzip\")"
   ]
  }
 ],
 "metadata": {
  "kernelspec": {
   "display_name": "Python 3",
   "language": "python",
   "name": "python3"
  },
  "language_info": {
   "codemirror_mode": {
    "name": "ipython",
    "version": 3
   },
   "file_extension": ".py",
   "mimetype": "text/x-python",
   "name": "python",
   "nbconvert_exporter": "python",
   "pygments_lexer": "ipython3",
   "version": "3.7.3"
  }
 },
 "nbformat": 4,
 "nbformat_minor": 2
}
